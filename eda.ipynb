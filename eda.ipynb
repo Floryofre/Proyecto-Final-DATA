{
 "cells": [
  {
   "cell_type": "code",
   "execution_count": 1,
   "metadata": {},
   "outputs": [
    {
     "name": "stdout",
     "output_type": "stream",
     "text": [
      "Este es el EDA\n"
     ]
    }
   ],
   "source": [
    "print('Este es el EDA')"
   ]
  }
 ],
 "metadata": {
  "kernelspec": {
   "display_name": "Python 3",
   "language": "python",
   "name": "python3"
  },
  "language_info": {
   "codemirror_mode": {
    "name": "ipython",
    "version": 3
   },
   "file_extension": ".py",
   "mimetype": "text/x-python",
   "name": "python",
   "nbconvert_exporter": "python",
   "pygments_lexer": "ipython3",
   "version": "3.10.4"
  },
  "orig_nbformat": 4,
  "vscode": {
   "interpreter": {
    "hash": "9ae161064568ab8995da0dd3a497742cb93d7a4a8c92dd24679206c238b5a846"
   }
  }
 },
 "nbformat": 4,
 "nbformat_minor": 2
}
